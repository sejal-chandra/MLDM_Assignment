{
 "cells": [
  {
   "cell_type": "markdown",
   "metadata": {},
   "source": [
    "1. Write a function so that the columns of the output matrix are powers of the input\n",
    "vector.\n",
    "The order of the powers is determined by the increasing boolean argument. Specifically, when\n",
    "increasing is False, the i-th output column is the input vector raised element-wise to the power\n",
    "of N - i - 1.\n",
    "\n",
    "HINT: Such a matrix with a geometric progression in each row is named for Alexandre-\n",
    "Theophile Vandermonde."
   ]
  },
  {
   "cell_type": "code",
   "execution_count": 8,
   "metadata": {},
   "outputs": [
    {
     "name": "stdout",
     "output_type": "stream",
     "text": [
      "Enter size of list3\n",
      "Enter the elements1\n",
      "Enter the elements2\n",
      "Enter the elements3\n",
      "Input array is: [1, 2, 3]\n",
      "Number of columns in output matrix: 3\n",
      "Output when decreasing powers:\n",
      "[[1 1 1]\n",
      " [4 2 1]\n",
      " [9 3 1]]\n",
      "Output when increasing powers:\n",
      "[[1 1 1]\n",
      " [1 2 4]\n",
      " [1 3 9]]\n"
     ]
    }
   ],
   "source": [
    "import numpy as np\n",
    "def vandermonde_matrix(input,n,boolean):\n",
    "    if boolean==True:\n",
    "        output=np.array([x**(n-i-1) for x in input for i in range(n)]).reshape(n,n)\n",
    "    else:\n",
    "        output=np.array([x**i for x in input for i in range(n)]).reshape(n,n)\n",
    "    return output\n",
    "input_mat=[]\n",
    "size=int(input(\"Enter size of list\"))\n",
    "for i in range(size):\n",
    "    input_mat.append(int(input(\"Enter the elements\")))\n",
    "print(\"Input array is:\",input_mat)\n",
    "print(\"Number of columns in output matrix:\",size)\n",
    "print(\"Output when decreasing powers:\")\n",
    "print(vandermonde_matrix(input_mat,size,True))\n",
    "print(\"Output when increasing powers:\")\n",
    "print(vandermonde_matrix(input_mat,size,False))"
   ]
  },
  {
   "cell_type": "markdown",
   "metadata": {},
   "source": [
    "2. Write a function to find moving average in an array over a window:\n",
    "Test it over [3, 5, 7, 2, 8, 10, 11, 65, 72, 81, 99, 100, 150] and window of 3."
   ]
  },
  {
   "cell_type": "code",
   "execution_count": 17,
   "metadata": {},
   "outputs": [
    {
     "data": {
      "text/plain": [
       "array([ 17,  25,  35,  46, 111, 183, 264, 363, 463, 613], dtype=int32)"
      ]
     },
     "execution_count": 17,
     "metadata": {},
     "output_type": "execute_result"
    }
   ],
   "source": [
    "input_list=[3, 5, 7, 2, 8, 10, 11, 65, 72, 81, 99, 100, 150]\n",
    "window=3\n",
    "\"\"\"cum_sum=np.cumsum(input_list)\n",
    "cum_sum[:-3]\n",
    "cum_sum[3:]\"\"\""
   ]
  },
  {
   "cell_type": "code",
   "execution_count": 19,
   "metadata": {},
   "outputs": [
    {
     "name": "stdout",
     "output_type": "stream",
     "text": [
      "Output: [  5.      4.667   5.667   6.667   9.667  28.667  49.333  72.667  84.\n",
      "  93.333 116.333]\n"
     ]
    }
   ],
   "source": [
    "def moving_average(input_list,n):\n",
    "    cum_sum=np.cumsum(input_list)\n",
    "    cum_sum[n:]=cum_sum[n:]-cum_sum[:-n]\n",
    "    output=(cum_sum[n-1:]/n).round(3)\n",
    "    return output\n",
    "print(\"Output:\",moving_average(input_list,size))\n",
    "    "
   ]
  }
 ],
 "metadata": {
  "kernelspec": {
   "display_name": "Python 3",
   "language": "python",
   "name": "python3"
  },
  "language_info": {
   "codemirror_mode": {
    "name": "ipython",
    "version": 3
   },
   "file_extension": ".py",
   "mimetype": "text/x-python",
   "name": "python",
   "nbconvert_exporter": "python",
   "pygments_lexer": "ipython3",
   "version": "3.6.8"
  }
 },
 "nbformat": 4,
 "nbformat_minor": 2
}
