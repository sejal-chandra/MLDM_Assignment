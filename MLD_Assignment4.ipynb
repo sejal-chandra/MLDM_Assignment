{
 "cells": [
  {
   "cell_type": "markdown",
   "metadata": {},
   "source": [
    "1.1 Write a Python Program(with class concepts) to find the area of the triangle using the below\n",
    "formula.\n",
    "area = (s*(s-a)*(s-b)*(s-c)) ** 0.5\n",
    "Function to take the length of the sides of triangle from user should be defined in the parent class and function to calculate the area should be defined in subclass."
   ]
  },
  {
   "cell_type": "code",
   "execution_count": 20,
   "metadata": {},
   "outputs": [
    {
     "name": "stdout",
     "output_type": "stream",
     "text": [
      "the area of triangle is:2.904738\n"
     ]
    }
   ],
   "source": [
    "class sides_triangle:\n",
    "    def sides(self,a,b,c):\n",
    "        self.a=a\n",
    "        self.b=b\n",
    "        self.c=c\n",
    "class area_triangle(sides_triangle):\n",
    "    def __init__(self,*args):\n",
    "        super(area_triangle,self).sides(*args)\n",
    "        s=0.5*(self.a+self.b+self.c)\n",
    "        self.area=(s*(s-self.a)*(s-self.b)*(s-self.c)) ** 0.5\n",
    "    def __str__(self):\n",
    "        return \"the area of triangle is:%f\" %(self.area)\n",
    "ar_object=area_triangle(2,3,4)\n",
    "        \n",
    "print(ar_object)        "
   ]
  },
  {
   "cell_type": "markdown",
   "metadata": {},
   "source": [
    "1.2 Write a function filter_long_words() that takes a list of words and an integer n and returns\n",
    "the list of words that are longer than n."
   ]
  },
  {
   "cell_type": "code",
   "execution_count": 23,
   "metadata": {},
   "outputs": [
    {
     "name": "stdout",
     "output_type": "stream",
     "text": [
      "['hello', 'world', 'sejal']\n"
     ]
    }
   ],
   "source": [
    "def filter_long_words(list_words,n):\n",
    "    long_words=[]\n",
    "    for i in list_words:\n",
    "        if len(i)>n:\n",
    "            long_words.append(i)\n",
    "    return long_words\n",
    "print(filter_long_words([\"hello\",\"world\",\"me\",\"the\",\"sejal\"],3))"
   ]
  },
  {
   "cell_type": "markdown",
   "metadata": {},
   "source": [
    "2.1 Write a Python program using function concept that maps list of words into a list of integers\n",
    "representing the lengths of the corresponding words.\n",
    "Hint: If a list [ ab,cde,erty] is passed on to the python function output should come as [2,3,4]\n",
    "Here 2,3 and 4 are the lengths of the words in the list."
   ]
  },
  {
   "cell_type": "code",
   "execution_count": 27,
   "metadata": {},
   "outputs": [
    {
     "name": "stdout",
     "output_type": "stream",
     "text": [
      "[5, 5, 2, 3, 5]\n"
     ]
    }
   ],
   "source": [
    "a=[\"hello\",\"world\",\"me\",\"the\",\"sejal\"]\n",
    "def word_len(a):\n",
    "    return len(a)\n",
    "print(list(map(word_len,a)))"
   ]
  },
  {
   "cell_type": "markdown",
   "metadata": {},
   "source": [
    "2.2 Write a Python function which takes a character (i.e. a string of length 1) and returns True if\n",
    "it is a vowel, False otherwise."
   ]
  },
  {
   "cell_type": "code",
   "execution_count": 6,
   "metadata": {},
   "outputs": [
    {
     "name": "stdout",
     "output_type": "stream",
     "text": [
      "False\n",
      "True\n",
      "True\n"
     ]
    }
   ],
   "source": [
    "def vowel(char):\n",
    "    vowel=['a','e','i','o','u','A','E','I','O','U']\n",
    "    if char in vowel:\n",
    "        return True\n",
    "    else:\n",
    "        return False\n",
    "print(vowel('j'))\n",
    "print(vowel('a'))\n",
    "print(vowel('I'))\n",
    "    "
   ]
  },
  {
   "cell_type": "code",
   "execution_count": null,
   "metadata": {},
   "outputs": [],
   "source": []
  }
 ],
 "metadata": {
  "kernelspec": {
   "display_name": "Python 3",
   "language": "python",
   "name": "python3"
  },
  "language_info": {
   "codemirror_mode": {
    "name": "ipython",
    "version": 3
   },
   "file_extension": ".py",
   "mimetype": "text/x-python",
   "name": "python",
   "nbconvert_exporter": "python",
   "pygments_lexer": "ipython3",
   "version": "3.6.8"
  }
 },
 "nbformat": 4,
 "nbformat_minor": 2
}
